{
 "cells": [
  {
   "cell_type": "markdown",
   "metadata": {},
   "source": [
    "## Fist project\n",
    "\n",
    "### search .ipymb in projects\n",
    "- __number__\n",
    "- *file name*"
   ]
  },
  {
   "cell_type": "code",
   "execution_count": 1,
   "metadata": {},
   "outputs": [],
   "source": [
    "import os "
   ]
  },
  {
   "cell_type": "code",
   "execution_count": 2,
   "metadata": {},
   "outputs": [
    {
     "data": {
      "text/plain": [
       "['.git',\n",
       " '.ipynb_checkpoints',\n",
       " 'demo1.ipynb',\n",
       " 'demo2.ipynb',\n",
       " 'demo3.py',\n",
       " 'demo4.ipynb',\n",
       " 'index.md',\n",
       " 'jupyter_demo.ipynb',\n",
       " 'main.py',\n",
       " 'mypig.jpg',\n",
       " 'Pig-performance-may-see-boost-but-mode-of-action-remains-aloof-in-copper-feeding-trial_wrbm_large.jpg',\n",
       " 'project1.ipynb',\n",
       " 'python_code.py',\n",
       " 'README.md',\n",
       " '_config.yml',\n",
       " '下載.jpg']"
      ]
     },
     "execution_count": 2,
     "metadata": {},
     "output_type": "execute_result"
    }
   ],
   "source": [
    "os.listdir()"
   ]
  },
  {
   "cell_type": "code",
   "execution_count": 4,
   "metadata": {},
   "outputs": [
    {
     "data": {
      "text/plain": [
       "['desktop.ini',\n",
       " 'GitHub',\n",
       " 'My Music',\n",
       " 'My Pictures',\n",
       " 'My Videos',\n",
       " 'Python Scripts',\n",
       " 'Pythonlearning',\n",
       " 'temp']"
      ]
     },
     "execution_count": 4,
     "metadata": {},
     "output_type": "execute_result"
    }
   ],
   "source": [
    "os.listdir('/users/柏劭/Documents/')"
   ]
  },
  {
   "cell_type": "code",
   "execution_count": 6,
   "metadata": {},
   "outputs": [
    {
     "data": {
      "text/plain": [
       "range(0, 10)"
      ]
     },
     "execution_count": 6,
     "metadata": {},
     "output_type": "execute_result"
    }
   ],
   "source": [
    "range(10\n",
    "    )"
   ]
  },
  {
   "cell_type": "code",
   "execution_count": 7,
   "metadata": {},
   "outputs": [
    {
     "name": "stdout",
     "output_type": "stream",
     "text": [
      "0\n",
      "1\n",
      "2\n",
      "3\n",
      "4\n",
      "5\n",
      "6\n",
      "7\n",
      "8\n",
      "9\n"
     ]
    }
   ],
   "source": [
    "for i in range(): \n",
    "    print (i)"
   ]
  },
  {
   "cell_type": "code",
   "execution_count": 9,
   "metadata": {},
   "outputs": [],
   "source": [
    "files= os.listdir()"
   ]
  },
  {
   "cell_type": "code",
   "execution_count": 10,
   "metadata": {},
   "outputs": [
    {
     "ename": "TypeError",
     "evalue": "'list' object cannot be interpreted as an integer",
     "output_type": "error",
     "traceback": [
      "\u001b[1;31m---------------------------------------------------------------------------\u001b[0m",
      "\u001b[1;31mTypeError\u001b[0m                                 Traceback (most recent call last)",
      "\u001b[1;32m<ipython-input-10-1d7a06762ac0>\u001b[0m in \u001b[0;36m<module>\u001b[1;34m\u001b[0m\n\u001b[1;32m----> 1\u001b[1;33m \u001b[1;32mfor\u001b[0m \u001b[0mi\u001b[0m \u001b[1;32min\u001b[0m \u001b[0mrange\u001b[0m\u001b[1;33m(\u001b[0m\u001b[0mfiles\u001b[0m\u001b[1;33m)\u001b[0m\u001b[1;33m:\u001b[0m\u001b[1;33m\u001b[0m\u001b[1;33m\u001b[0m\u001b[0m\n\u001b[0m\u001b[0;32m      2\u001b[0m     \u001b[0mprint\u001b[0m\u001b[1;33m(\u001b[0m\u001b[0mfiles\u001b[0m\u001b[1;33m)\u001b[0m\u001b[1;33m\u001b[0m\u001b[1;33m\u001b[0m\u001b[0m\n",
      "\u001b[1;31mTypeError\u001b[0m: 'list' object cannot be interpreted as an integer"
     ]
    }
   ],
   "source": [
    "for i in range(files):\n",
    "    print(files)"
   ]
  },
  {
   "cell_type": "code",
   "execution_count": 11,
   "metadata": {},
   "outputs": [
    {
     "data": {
      "text/plain": [
       "16"
      ]
     },
     "execution_count": 11,
     "metadata": {},
     "output_type": "execute_result"
    }
   ],
   "source": [
    "len(files)"
   ]
  },
  {
   "cell_type": "code",
   "execution_count": 12,
   "metadata": {},
   "outputs": [
    {
     "data": {
      "text/plain": [
       "['.git',\n",
       " '.ipynb_checkpoints',\n",
       " 'demo1.ipynb',\n",
       " 'demo2.ipynb',\n",
       " 'demo3.py',\n",
       " 'demo4.ipynb',\n",
       " 'index.md',\n",
       " 'jupyter_demo.ipynb',\n",
       " 'main.py',\n",
       " 'mypig.jpg',\n",
       " 'Pig-performance-may-see-boost-but-mode-of-action-remains-aloof-in-copper-feeding-trial_wrbm_large.jpg',\n",
       " 'project1.ipynb',\n",
       " 'python_code.py',\n",
       " 'README.md',\n",
       " '_config.yml',\n",
       " '下載.jpg']"
      ]
     },
     "execution_count": 12,
     "metadata": {},
     "output_type": "execute_result"
    }
   ],
   "source": [
    "files"
   ]
  },
  {
   "cell_type": "code",
   "execution_count": 13,
   "metadata": {},
   "outputs": [
    {
     "name": "stdout",
     "output_type": "stream",
     "text": [
      ".git\n",
      ".ipynb_checkpoints\n",
      "demo1.ipynb\n",
      "demo2.ipynb\n",
      "demo3.py\n",
      "demo4.ipynb\n",
      "index.md\n",
      "jupyter_demo.ipynb\n",
      "main.py\n",
      "mypig.jpg\n",
      "Pig-performance-may-see-boost-but-mode-of-action-remains-aloof-in-copper-feeding-trial_wrbm_large.jpg\n",
      "project1.ipynb\n",
      "python_code.py\n",
      "README.md\n",
      "_config.yml\n",
      "下載.jpg\n"
     ]
    }
   ],
   "source": [
    "for i in files:\n",
    "    print(i)"
   ]
  },
  {
   "cell_type": "code",
   "execution_count": 32,
   "metadata": {},
   "outputs": [
    {
     "name": "stdout",
     "output_type": "stream",
     "text": [
      "2:demo1.ipynb\n",
      "3:demo2.ipynb\n",
      "5:demo4.ipynb\n",
      "7:jupyter_demo.ipynb\n",
      "11:project1.ipynb\n",
      "There has 5 files\n"
     ]
    }
   ],
   "source": [
    "i = 0\n",
    "j = 0\n",
    "for file in files:\n",
    "    if file.endswith('ipynb') :\n",
    "        j = j + 1\n",
    "        print(str(i) + \":\" + files[i])\n",
    "    i = i + 1\n",
    "print('There has' , j , 'files')\n",
    "    \n"
   ]
  },
  {
   "cell_type": "code",
   "execution_count": null,
   "metadata": {},
   "outputs": [],
   "source": []
  }
 ],
 "metadata": {
  "kernelspec": {
   "display_name": "Python 3",
   "language": "python",
   "name": "python3"
  },
  "language_info": {
   "codemirror_mode": {
    "name": "ipython",
    "version": 3
   },
   "file_extension": ".py",
   "mimetype": "text/x-python",
   "name": "python",
   "nbconvert_exporter": "python",
   "pygments_lexer": "ipython3",
   "version": "3.7.1"
  }
 },
 "nbformat": 4,
 "nbformat_minor": 2
}
